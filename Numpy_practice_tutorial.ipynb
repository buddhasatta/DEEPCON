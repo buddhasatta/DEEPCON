{
  "nbformat": 4,
  "nbformat_minor": 0,
  "metadata": {
    "colab": {
      "provenance": [],
      "authorship_tag": "ABX9TyMyh+qrgMtwo8jS/ZTMpkmS",
      "include_colab_link": true
    },
    "kernelspec": {
      "name": "python3",
      "display_name": "Python 3"
    },
    "language_info": {
      "name": "python"
    }
  },
  "cells": [
    {
      "cell_type": "markdown",
      "metadata": {
        "id": "view-in-github",
        "colab_type": "text"
      },
      "source": [
        "<a href=\"https://colab.research.google.com/github/buddhasatta/DEEPCON/blob/master/Numpy_practice_tutorial.ipynb\" target=\"_parent\"><img src=\"https://colab.research.google.com/assets/colab-badge.svg\" alt=\"Open In Colab\"/></a>"
      ]
    },
    {
      "cell_type": "code",
      "execution_count": 1,
      "metadata": {
        "id": "lktrOkl8GnHt"
      },
      "outputs": [],
      "source": [
        "#following is the command to pull the numpy library in python\n",
        "import numpy as np\n"
      ]
    },
    {
      "cell_type": "code",
      "source": [
        "arr1=np.array([1,2,3,4]) #np.array method to create a normal array\n",
        "arr2=np.linspace(10,20,2) #np.array method to create array of equidistant elements within the limits\n",
        "arr3=np.zeros((3,1))\n",
        "arr4=np.ones(3)\n",
        "arr5=np.identity(3)\n",
        "arr6=np.arange(3)"
      ],
      "metadata": {
        "id": "i7Tov99FGv3D"
      },
      "execution_count": 2,
      "outputs": []
    },
    {
      "cell_type": "code",
      "source": [],
      "metadata": {
        "id": "-mjfkoQCHDAW"
      },
      "execution_count": null,
      "outputs": []
    }
  ]
}